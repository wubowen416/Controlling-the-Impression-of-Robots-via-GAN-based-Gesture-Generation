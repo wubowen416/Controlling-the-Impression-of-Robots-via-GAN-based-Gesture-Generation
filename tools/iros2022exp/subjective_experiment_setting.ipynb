{
 "cells": [
  {
   "cell_type": "code",
   "execution_count": 1,
   "metadata": {},
   "outputs": [
    {
     "name": "stdout",
     "output_type": "stream",
     "text": [
      "/home/wu/Repos/gesture/gan/gesture-wgan/tools\n",
      "/home/wu/Repos/gesture/gan/gesture-wgan\n"
     ]
    }
   ],
   "source": [
    "%cd ..\n",
    "%cd .."
   ]
  },
  {
   "cell_type": "code",
   "execution_count": 2,
   "metadata": {},
   "outputs": [],
   "source": [
    "import pickle\n",
    "import numpy as np\n",
    "\n",
    "np.random.seed(1)"
   ]
  },
  {
   "cell_type": "code",
   "execution_count": 3,
   "metadata": {},
   "outputs": [],
   "source": [
    "# Load data\n",
    "with open('data/takekuchi/processed/prosody/X_dev.p', 'rb') as f:\n",
    "    X_test = pickle.load(f)"
   ]
  },
  {
   "cell_type": "code",
   "execution_count": 4,
   "metadata": {},
   "outputs": [
    {
     "name": "stdout",
     "output_type": "stream",
     "text": [
      "[13, 14, 19, 22, 34]\n"
     ]
    }
   ],
   "source": [
    "# Filter shorter than 10 secondsS\n",
    "idxs = [i for i, x in enumerate(X_test) if len(x) > 300]\n",
    "\n",
    "# Randomly seletect samples from dataset for exp\n",
    "idxs = sorted(np.random.choice(idxs, size=5, replace=False))\n",
    "print(idxs)"
   ]
  },
  {
   "cell_type": "code",
   "execution_count": 5,
   "metadata": {},
   "outputs": [
    {
     "name": "stdout",
     "output_type": "stream",
     "text": [
      "[1119 1121 1131 1137 1161]\n"
     ]
    }
   ],
   "source": [
    "idxs = np.array(idxs)*2 + 1093\n",
    "print(idxs)"
   ]
  },
  {
   "cell_type": "code",
   "execution_count": 6,
   "metadata": {},
   "outputs": [
    {
     "name": "stdout",
     "output_type": "stream",
     "text": [
      "[12, 23, 1]\n"
     ]
    }
   ],
   "source": [
    "# order of audio\n",
    "idxs = [1, 12, 23]\n",
    "np.random.shuffle(idxs)\n",
    "print(idxs)"
   ]
  },
  {
   "cell_type": "code",
   "execution_count": 7,
   "metadata": {},
   "outputs": [
    {
     "name": "stdout",
     "output_type": "stream",
     "text": [
      "[16, 5, 28, 17, 2, 14, 3, 15, 26, 27, 24, 25, 6, 4, 13]\n"
     ]
    }
   ],
   "source": [
    "# order of muted video\n",
    "idxs = [2, 3, 4, 5, 6, 13, 14, 15, 16, 17, 24, 25, 26, 27, 28]\n",
    "np.random.shuffle(idxs)\n",
    "print(idxs)"
   ]
  },
  {
   "cell_type": "code",
   "execution_count": 8,
   "metadata": {},
   "outputs": [
    {
     "name": "stdout",
     "output_type": "stream",
     "text": [
      "[31, 21, 9, 11, 10, 18, 32, 30, 29, 7, 8, 33, 19, 20, 22]\n"
     ]
    }
   ],
   "source": [
    "# order of video\n",
    "idxs = [7, 8, 9, 10, 11, 18, 19, 20, 21, 22, 29, 30, 31, 32, 33]\n",
    "np.random.shuffle(idxs)\n",
    "print(idxs)"
   ]
  },
  {
   "cell_type": "code",
   "execution_count": 9,
   "metadata": {},
   "outputs": [
    {
     "name": "stdout",
     "output_type": "stream",
     "text": [
      "[44 47 36 45 48 43 34 38 46 35 39 40 37 41 42]\n"
     ]
    }
   ],
   "source": [
    "# order of commu video\n",
    "idxs = np.arange(34, 49)\n",
    "np.random.shuffle(idxs)\n",
    "print(idxs)"
   ]
  },
  {
   "cell_type": "code",
   "execution_count": 10,
   "metadata": {},
   "outputs": [
    {
     "name": "stdout",
     "output_type": "stream",
     "text": [
      "[61 57 54 60 56 55 59 50 53 63 51 58 52 62 49]\n"
     ]
    }
   ],
   "source": [
    "# order of commu video\n",
    "idxs = np.arange(49, 64)\n",
    "np.random.shuffle(idxs)\n",
    "print(idxs)"
   ]
  },
  {
   "cell_type": "code",
   "execution_count": null,
   "metadata": {},
   "outputs": [],
   "source": []
  }
 ],
 "metadata": {
  "interpreter": {
   "hash": "952e90ba24abf5bb597bd7561cfc3bdaa2ee696c3a9249550465cf4077e7b8fd"
  },
  "kernelspec": {
   "display_name": "Python 3.6.13 ('gg')",
   "language": "python",
   "name": "python3"
  },
  "language_info": {
   "codemirror_mode": {
    "name": "ipython",
    "version": 3
   },
   "file_extension": ".py",
   "mimetype": "text/x-python",
   "name": "python",
   "nbconvert_exporter": "python",
   "pygments_lexer": "ipython3",
   "version": "3.6.13"
  },
  "orig_nbformat": 4
 },
 "nbformat": 4,
 "nbformat_minor": 2
}
