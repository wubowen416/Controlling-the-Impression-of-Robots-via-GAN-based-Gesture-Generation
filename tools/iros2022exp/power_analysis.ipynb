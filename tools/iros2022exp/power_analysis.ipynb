{
 "cells": [
  {
   "cell_type": "code",
   "execution_count": 1,
   "metadata": {},
   "outputs": [],
   "source": [
    "import numpy as np\n",
    "import pandas as pd\n",
    "import matplotlib.pyplot as plt\n",
    "import seaborn as sns\n",
    "from statsmodels.stats.power import TTestIndPower\n",
    "sns.set_style(\"whitegrid\")\n",
    "\n",
    "plt.rcParams['font.size'] = 16"
   ]
  },
  {
   "cell_type": "code",
   "execution_count": 2,
   "metadata": {},
   "outputs": [],
   "source": [
    "def cohens_d(x1, x2):\n",
    "    n1 = len(x1)\n",
    "    n2 = len(x2)\n",
    "    x1_mean = x1.mean()\n",
    "    x2_mean = x2.mean()\n",
    "    s1 = x1.std()\n",
    "    s2 = x2.std()\n",
    "    s = np.sqrt((n1*np.square(s1)+n2*np.square(s2))/(n1+n2))\n",
    "    d = np.abs(x1_mean-x2_mean)/s\n",
    "    return d\n",
    "\n",
    "def get_cohens_d_and_power(x1, x2, p_value=0.05):\n",
    "    cd = cohens_d(x1, x2)\n",
    "    analysis = TTestIndPower()\n",
    "    power = analysis.power(\n",
    "        effect_size=cd, \n",
    "        nobs1=len(x1), \n",
    "        alpha=p_value, \n",
    "        ratio=1, \n",
    "        df=None, \n",
    "        alternative='two-sided'\n",
    "    )\n",
    "    return cd, power"
   ]
  },
  {
   "cell_type": "code",
   "execution_count": 3,
   "metadata": {},
   "outputs": [
    {
     "data": {
      "text/html": [
       "<div>\n",
       "<style scoped>\n",
       "    .dataframe tbody tr th:only-of-type {\n",
       "        vertical-align: middle;\n",
       "    }\n",
       "\n",
       "    .dataframe tbody tr th {\n",
       "        vertical-align: top;\n",
       "    }\n",
       "\n",
       "    .dataframe thead th {\n",
       "        text-align: right;\n",
       "    }\n",
       "</style>\n",
       "<table border=\"1\" class=\"dataframe\">\n",
       "  <thead>\n",
       "    <tr style=\"text-align: right;\">\n",
       "      <th></th>\n",
       "      <th>personality_audio</th>\n",
       "      <th>personality_gt_mute</th>\n",
       "      <th>personality_gt</th>\n",
       "      <th>personality_icmi_mute</th>\n",
       "      <th>personality_icmi</th>\n",
       "      <th>personality_low_mute</th>\n",
       "      <th>personality_low</th>\n",
       "      <th>personality_mid_mute</th>\n",
       "      <th>personality_mid</th>\n",
       "      <th>personality_high_mute</th>\n",
       "      <th>...</th>\n",
       "      <th>nat_gt</th>\n",
       "      <th>nat_icmi</th>\n",
       "      <th>nat_low</th>\n",
       "      <th>nat_mid</th>\n",
       "      <th>nat_high</th>\n",
       "      <th>nat_gt_commu</th>\n",
       "      <th>nat_icmi_commu</th>\n",
       "      <th>nat_low_commu</th>\n",
       "      <th>nat_mid_commu</th>\n",
       "      <th>nat_high_commu</th>\n",
       "    </tr>\n",
       "  </thead>\n",
       "  <tbody>\n",
       "    <tr>\n",
       "      <th>0</th>\n",
       "      <td>4</td>\n",
       "      <td>4</td>\n",
       "      <td>6</td>\n",
       "      <td>4</td>\n",
       "      <td>5</td>\n",
       "      <td>2</td>\n",
       "      <td>2</td>\n",
       "      <td>2</td>\n",
       "      <td>1</td>\n",
       "      <td>4</td>\n",
       "      <td>...</td>\n",
       "      <td>7</td>\n",
       "      <td>6</td>\n",
       "      <td>3</td>\n",
       "      <td>2</td>\n",
       "      <td>7</td>\n",
       "      <td>5</td>\n",
       "      <td>6</td>\n",
       "      <td>6</td>\n",
       "      <td>6</td>\n",
       "      <td>6</td>\n",
       "    </tr>\n",
       "    <tr>\n",
       "      <th>1</th>\n",
       "      <td>3</td>\n",
       "      <td>6</td>\n",
       "      <td>2</td>\n",
       "      <td>5</td>\n",
       "      <td>3</td>\n",
       "      <td>2</td>\n",
       "      <td>2</td>\n",
       "      <td>4</td>\n",
       "      <td>3</td>\n",
       "      <td>5</td>\n",
       "      <td>...</td>\n",
       "      <td>3</td>\n",
       "      <td>4</td>\n",
       "      <td>1</td>\n",
       "      <td>4</td>\n",
       "      <td>6</td>\n",
       "      <td>5</td>\n",
       "      <td>5</td>\n",
       "      <td>1</td>\n",
       "      <td>4</td>\n",
       "      <td>4</td>\n",
       "    </tr>\n",
       "    <tr>\n",
       "      <th>2</th>\n",
       "      <td>5</td>\n",
       "      <td>5</td>\n",
       "      <td>2</td>\n",
       "      <td>5</td>\n",
       "      <td>6</td>\n",
       "      <td>2</td>\n",
       "      <td>3</td>\n",
       "      <td>6</td>\n",
       "      <td>3</td>\n",
       "      <td>6</td>\n",
       "      <td>...</td>\n",
       "      <td>6</td>\n",
       "      <td>7</td>\n",
       "      <td>5</td>\n",
       "      <td>6</td>\n",
       "      <td>6</td>\n",
       "      <td>6</td>\n",
       "      <td>6</td>\n",
       "      <td>5</td>\n",
       "      <td>5</td>\n",
       "      <td>7</td>\n",
       "    </tr>\n",
       "    <tr>\n",
       "      <th>3</th>\n",
       "      <td>3</td>\n",
       "      <td>6</td>\n",
       "      <td>5</td>\n",
       "      <td>4</td>\n",
       "      <td>5</td>\n",
       "      <td>2</td>\n",
       "      <td>2</td>\n",
       "      <td>2</td>\n",
       "      <td>1</td>\n",
       "      <td>5</td>\n",
       "      <td>...</td>\n",
       "      <td>4</td>\n",
       "      <td>6</td>\n",
       "      <td>2</td>\n",
       "      <td>2</td>\n",
       "      <td>2</td>\n",
       "      <td>2</td>\n",
       "      <td>3</td>\n",
       "      <td>1</td>\n",
       "      <td>3</td>\n",
       "      <td>3</td>\n",
       "    </tr>\n",
       "    <tr>\n",
       "      <th>4</th>\n",
       "      <td>3</td>\n",
       "      <td>5</td>\n",
       "      <td>7</td>\n",
       "      <td>5</td>\n",
       "      <td>5</td>\n",
       "      <td>2</td>\n",
       "      <td>2</td>\n",
       "      <td>4</td>\n",
       "      <td>3</td>\n",
       "      <td>7</td>\n",
       "      <td>...</td>\n",
       "      <td>7</td>\n",
       "      <td>6</td>\n",
       "      <td>2</td>\n",
       "      <td>4</td>\n",
       "      <td>5</td>\n",
       "      <td>4</td>\n",
       "      <td>4</td>\n",
       "      <td>6</td>\n",
       "      <td>5</td>\n",
       "      <td>3</td>\n",
       "    </tr>\n",
       "  </tbody>\n",
       "</table>\n",
       "<p>5 rows × 42 columns</p>\n",
       "</div>"
      ],
      "text/plain": [
       "   personality_audio  personality_gt_mute  personality_gt  \\\n",
       "0                  4                    4               6   \n",
       "1                  3                    6               2   \n",
       "2                  5                    5               2   \n",
       "3                  3                    6               5   \n",
       "4                  3                    5               7   \n",
       "\n",
       "   personality_icmi_mute  personality_icmi  personality_low_mute  \\\n",
       "0                      4                 5                     2   \n",
       "1                      5                 3                     2   \n",
       "2                      5                 6                     2   \n",
       "3                      4                 5                     2   \n",
       "4                      5                 5                     2   \n",
       "\n",
       "   personality_low  personality_mid_mute  personality_mid  \\\n",
       "0                2                     2                1   \n",
       "1                2                     4                3   \n",
       "2                3                     6                3   \n",
       "3                2                     2                1   \n",
       "4                2                     4                3   \n",
       "\n",
       "   personality_high_mute  ...  nat_gt  nat_icmi  nat_low  nat_mid  nat_high  \\\n",
       "0                      4  ...       7         6        3        2         7   \n",
       "1                      5  ...       3         4        1        4         6   \n",
       "2                      6  ...       6         7        5        6         6   \n",
       "3                      5  ...       4         6        2        2         2   \n",
       "4                      7  ...       7         6        2        4         5   \n",
       "\n",
       "   nat_gt_commu  nat_icmi_commu  nat_low_commu  nat_mid_commu  nat_high_commu  \n",
       "0             5               6              6              6               6  \n",
       "1             5               5              1              4               4  \n",
       "2             6               6              5              5               7  \n",
       "3             2               3              1              3               3  \n",
       "4             4               4              6              5               3  \n",
       "\n",
       "[5 rows x 42 columns]"
      ]
     },
     "execution_count": 3,
     "metadata": {},
     "output_type": "execute_result"
    }
   ],
   "source": [
    "df = pd.read_csv(\"result/saved.csv\")\n",
    "df.head()"
   ]
  },
  {
   "cell_type": "code",
   "execution_count": 4,
   "metadata": {},
   "outputs": [
    {
     "name": "stdout",
     "output_type": "stream",
     "text": [
      "cohens d: 0.9513840299193546, power: 1.0\n"
     ]
    }
   ],
   "source": [
    "x1 = df['personality_audio'].to_numpy()\n",
    "x2 = df['personality_low'].to_numpy()\n",
    "\n",
    "cd, power = get_cohens_d_and_power(x1, x2, p_value=0.001)\n",
    "print(f\"cohens d: {cd}, power: {power}\")"
   ]
  },
  {
   "cell_type": "code",
   "execution_count": 7,
   "metadata": {},
   "outputs": [
    {
     "name": "stdout",
     "output_type": "stream",
     "text": [
      "cohens d: 1.6502453130364318, power: 1.0\n"
     ]
    }
   ],
   "source": [
    "x1 = df['tension_audio'].to_numpy()\n",
    "x2 = df['tension_low_mute'].to_numpy()\n",
    "\n",
    "cd, power = get_cohens_d_and_power(x1, x2, p_value=0.01)\n",
    "print(f\"cohens d: {cd}, power: {power}\")"
   ]
  },
  {
   "cell_type": "code",
   "execution_count": 9,
   "metadata": {},
   "outputs": [
    {
     "name": "stdout",
     "output_type": "stream",
     "text": [
      "cohens d: 0.4113524070592021, power: 0.8331610562585541\n"
     ]
    }
   ],
   "source": [
    "x1 = df['tension_audio'].to_numpy()\n",
    "x2 = df['tension_mid_mute'].to_numpy()\n",
    "\n",
    "cd, power = get_cohens_d_and_power(x1, x2, p_value=0.01)\n",
    "print(f\"cohens d: {cd}, power: {power}\")"
   ]
  },
  {
   "cell_type": "code",
   "execution_count": 10,
   "metadata": {},
   "outputs": [
    {
     "name": "stdout",
     "output_type": "stream",
     "text": [
      "cohens d: 0.5898017622679705, power: 0.9938509363369327\n"
     ]
    }
   ],
   "source": [
    "x1 = df['tension_audio'].to_numpy()\n",
    "x2 = df['tension_mid'].to_numpy()\n",
    "\n",
    "cd, power = get_cohens_d_and_power(x1, x2, p_value=0.01)\n",
    "print(f\"cohens d: {cd}, power: {power}\")"
   ]
  },
  {
   "cell_type": "code",
   "execution_count": 5,
   "metadata": {},
   "outputs": [
    {
     "name": "stdout",
     "output_type": "stream",
     "text": [
      "cohens d: 0.7024384906729338, power: 0.9969024382259712\n"
     ]
    }
   ],
   "source": [
    "x1 = df['personality_gt'].to_numpy()\n",
    "x2 = df['personality_icmi'].to_numpy()\n",
    "\n",
    "cd, power = get_cohens_d_and_power(x1, x2, p_value=0.001)\n",
    "print(f\"cohens d: {cd}, power: {power}\")"
   ]
  },
  {
   "cell_type": "code",
   "execution_count": 6,
   "metadata": {},
   "outputs": [
    {
     "name": "stdout",
     "output_type": "stream",
     "text": [
      "cohens d: 1.653841873277353, power: 1.0\n"
     ]
    }
   ],
   "source": [
    "x1 = df['personality_gt'].to_numpy()\n",
    "x2 = df['personality_low'].to_numpy()\n",
    "\n",
    "cd, power = get_cohens_d_and_power(x1, x2, p_value=0.001)\n",
    "print(f\"cohens d: {cd}, power: {power}\")"
   ]
  },
  {
   "cell_type": "code",
   "execution_count": 7,
   "metadata": {},
   "outputs": [
    {
     "name": "stdout",
     "output_type": "stream",
     "text": [
      "cohens d: 1.0312873741439244, power: 1.0\n"
     ]
    }
   ],
   "source": [
    "x1 = df['personality_gt'].to_numpy()\n",
    "x2 = df['personality_mid'].to_numpy()\n",
    "\n",
    "cd, power = get_cohens_d_and_power(x1, x2, p_value=0.001)\n",
    "print(f\"cohens d: {cd}, power: {power}\")"
   ]
  },
  {
   "cell_type": "code",
   "execution_count": 8,
   "metadata": {},
   "outputs": [
    {
     "name": "stdout",
     "output_type": "stream",
     "text": [
      "cohens d: 0.10458931273847569, power: 0.008370990955700274\n"
     ]
    }
   ],
   "source": [
    "x1 = df['personality_gt'].to_numpy()\n",
    "x2 = df['personality_high'].to_numpy()\n",
    "\n",
    "cd, power = get_cohens_d_and_power(x1, x2, p_value=0.001)\n",
    "print(f\"cohens d: {cd}, power: {power}\")"
   ]
  },
  {
   "cell_type": "code",
   "execution_count": 9,
   "metadata": {},
   "outputs": [
    {
     "name": "stdout",
     "output_type": "stream",
     "text": [
      "cohens d: 0.9034412343137387, power: 1.0\n"
     ]
    }
   ],
   "source": [
    "x1 = df['personality_icmi'].to_numpy()\n",
    "x2 = df['personality_low'].to_numpy()\n",
    "\n",
    "cd, power = get_cohens_d_and_power(x1, x2, p_value=0.001)\n",
    "print(f\"cohens d: {cd}, power: {power}\")"
   ]
  },
  {
   "cell_type": "code",
   "execution_count": 11,
   "metadata": {},
   "outputs": [
    {
     "name": "stdout",
     "output_type": "stream",
     "text": [
      "cohens d: 0.31294230721375654, power: 0.7707918958051442\n"
     ]
    }
   ],
   "source": [
    "x1 = df['personality_icmi'].to_numpy()\n",
    "x2 = df['personality_mid'].to_numpy()\n",
    "\n",
    "cd, power = get_cohens_d_and_power(x1, x2, p_value=0.05)\n",
    "print(f\"cohens d: {cd}, power: {power}\")"
   ]
  },
  {
   "cell_type": "code",
   "execution_count": 12,
   "metadata": {},
   "outputs": [
    {
     "name": "stdout",
     "output_type": "stream",
     "text": [
      "cohens d: 0.581424671209646, power: 0.9553319095979561\n"
     ]
    }
   ],
   "source": [
    "x1 = df['personality_icmi'].to_numpy()\n",
    "x2 = df['personality_high'].to_numpy()\n",
    "\n",
    "cd, power = get_cohens_d_and_power(x1, x2, p_value=0.001)\n",
    "print(f\"cohens d: {cd}, power: {power}\")"
   ]
  },
  {
   "cell_type": "code",
   "execution_count": 14,
   "metadata": {},
   "outputs": [
    {
     "name": "stdout",
     "output_type": "stream",
     "text": [
      "cohens d: 0.5903657323223234, power: 0.9621030487739127\n"
     ]
    }
   ],
   "source": [
    "x1 = df['personality_low'].to_numpy()\n",
    "x2 = df['personality_mid'].to_numpy()\n",
    "\n",
    "cd, power = get_cohens_d_and_power(x1, x2, p_value=0.001)\n",
    "print(f\"cohens d: {cd}, power: {power}\")"
   ]
  },
  {
   "cell_type": "code",
   "execution_count": 15,
   "metadata": {},
   "outputs": [
    {
     "name": "stdout",
     "output_type": "stream",
     "text": [
      "cohens d: 1.5012916180641094, power: 1.0\n"
     ]
    }
   ],
   "source": [
    "x1 = df['personality_low'].to_numpy()\n",
    "x2 = df['personality_high'].to_numpy()\n",
    "\n",
    "cd, power = get_cohens_d_and_power(x1, x2, p_value=0.001)\n",
    "print(f\"cohens d: {cd}, power: {power}\")"
   ]
  },
  {
   "cell_type": "code",
   "execution_count": 16,
   "metadata": {},
   "outputs": [
    {
     "name": "stdout",
     "output_type": "stream",
     "text": [
      "cohens d: 0.8997774619922029, power: 1.0\n"
     ]
    }
   ],
   "source": [
    "x1 = df['personality_mid'].to_numpy()\n",
    "x2 = df['personality_high'].to_numpy()\n",
    "\n",
    "cd, power = get_cohens_d_and_power(x1, x2, p_value=0.001)\n",
    "print(f\"cohens d: {cd}, power: {power}\")"
   ]
  },
  {
   "cell_type": "code",
   "execution_count": 21,
   "metadata": {},
   "outputs": [
    {
     "name": "stdout",
     "output_type": "stream",
     "text": [
      "cohens d: 0.046031016654958345, power: 0.0020069551563327995\n"
     ]
    }
   ],
   "source": [
    "x1 = df['personality_gt_commu'].to_numpy()\n",
    "x2 = df['personality_icmi_commu'].to_numpy()\n",
    "\n",
    "cd, power = get_cohens_d_and_power(x1, x2, p_value=0.001)\n",
    "print(f\"cohens d: {cd}, power: {power}\")"
   ]
  },
  {
   "cell_type": "code",
   "execution_count": 22,
   "metadata": {},
   "outputs": [
    {
     "name": "stdout",
     "output_type": "stream",
     "text": [
      "cohens d: 1.0050729447726803, power: 1.0\n"
     ]
    }
   ],
   "source": [
    "x1 = df['personality_gt_commu'].to_numpy()\n",
    "x2 = df['personality_low_commu'].to_numpy()\n",
    "\n",
    "cd, power = get_cohens_d_and_power(x1, x2, p_value=0.001)\n",
    "print(f\"cohens d: {cd}, power: {power}\")"
   ]
  },
  {
   "cell_type": "code",
   "execution_count": 23,
   "metadata": {},
   "outputs": [
    {
     "name": "stdout",
     "output_type": "stream",
     "text": [
      "cohens d: 0.13711747257948217, power: 0.01727048593679858\n"
     ]
    }
   ],
   "source": [
    "x1 = df['personality_gt_commu'].to_numpy()\n",
    "x2 = df['personality_mid_commu'].to_numpy()\n",
    "\n",
    "cd, power = get_cohens_d_and_power(x1, x2, p_value=0.001)\n",
    "print(f\"cohens d: {cd}, power: {power}\")"
   ]
  },
  {
   "cell_type": "code",
   "execution_count": 27,
   "metadata": {},
   "outputs": [
    {
     "name": "stdout",
     "output_type": "stream",
     "text": [
      "cohens d: 0.24898317197392955, power: 0.5751070789913368\n"
     ]
    }
   ],
   "source": [
    "x1 = df['personality_gt_commu'].to_numpy()\n",
    "x2 = df['personality_high_commu'].to_numpy()\n",
    "\n",
    "cd, power = get_cohens_d_and_power(x1, x2, p_value=0.05)\n",
    "print(f\"cohens d: {cd}, power: {power}\")"
   ]
  },
  {
   "cell_type": "code",
   "execution_count": 28,
   "metadata": {},
   "outputs": [
    {
     "name": "stdout",
     "output_type": "stream",
     "text": [
      "cohens d: 0.9380474093363377, power: 1.0\n"
     ]
    }
   ],
   "source": [
    "x1 = df['personality_icmi_commu'].to_numpy()\n",
    "x2 = df['personality_low_commu'].to_numpy()\n",
    "\n",
    "cd, power = get_cohens_d_and_power(x1, x2, p_value=0.001)\n",
    "print(f\"cohens d: {cd}, power: {power}\")"
   ]
  },
  {
   "cell_type": "code",
   "execution_count": 29,
   "metadata": {},
   "outputs": [
    {
     "name": "stdout",
     "output_type": "stream",
     "text": [
      "cohens d: 0.18094189962982327, power: 0.34552544621996667\n"
     ]
    }
   ],
   "source": [
    "x1 = df['personality_icmi_commu'].to_numpy()\n",
    "x2 = df['personality_mid_commu'].to_numpy()\n",
    "\n",
    "cd, power = get_cohens_d_and_power(x1, x2, p_value=0.05)\n",
    "print(f\"cohens d: {cd}, power: {power}\")"
   ]
  },
  {
   "cell_type": "code",
   "execution_count": 30,
   "metadata": {},
   "outputs": [
    {
     "name": "stdout",
     "output_type": "stream",
     "text": [
      "cohens d: 0.2902711760873788, power: 0.7073849429876572\n"
     ]
    }
   ],
   "source": [
    "x1 = df['personality_icmi_commu'].to_numpy()\n",
    "x2 = df['personality_high_commu'].to_numpy()\n",
    "\n",
    "cd, power = get_cohens_d_and_power(x1, x2, p_value=0.05)\n",
    "print(f\"cohens d: {cd}, power: {power}\")"
   ]
  },
  {
   "cell_type": "code",
   "execution_count": 32,
   "metadata": {},
   "outputs": [
    {
     "name": "stdout",
     "output_type": "stream",
     "text": [
      "cohens d: 1.2652489292910425, power: 1.0\n"
     ]
    }
   ],
   "source": [
    "x1 = df['personality_low_commu'].to_numpy()\n",
    "x2 = df['personality_high_commu'].to_numpy()\n",
    "\n",
    "cd, power = get_cohens_d_and_power(x1, x2, p_value=0.001)\n",
    "print(f\"cohens d: {cd}, power: {power}\")"
   ]
  },
  {
   "cell_type": "code",
   "execution_count": 33,
   "metadata": {},
   "outputs": [
    {
     "name": "stdout",
     "output_type": "stream",
     "text": [
      "cohens d: 1.1584437689615488, power: 1.0\n"
     ]
    }
   ],
   "source": [
    "x1 = df['personality_low_commu'].to_numpy()\n",
    "x2 = df['personality_mid_commu'].to_numpy()\n",
    "\n",
    "cd, power = get_cohens_d_and_power(x1, x2, p_value=0.001)\n",
    "print(f\"cohens d: {cd}, power: {power}\")"
   ]
  },
  {
   "cell_type": "code",
   "execution_count": 35,
   "metadata": {},
   "outputs": [
    {
     "name": "stdout",
     "output_type": "stream",
     "text": [
      "cohens d: 0.11436138113838543, power: 0.16694105301989193\n"
     ]
    }
   ],
   "source": [
    "x1 = df['personality_high_commu'].to_numpy()\n",
    "x2 = df['personality_mid_commu'].to_numpy()\n",
    "\n",
    "cd, power = get_cohens_d_and_power(x1, x2, p_value=0.05)\n",
    "print(f\"cohens d: {cd}, power: {power}\")"
   ]
  },
  {
   "cell_type": "code",
   "execution_count": 36,
   "metadata": {},
   "outputs": [
    {
     "name": "stdout",
     "output_type": "stream",
     "text": [
      "cohens d: 0.6593781465907801, power: 0.991052783981819\n"
     ]
    }
   ],
   "source": [
    "x1 = df['tension_gt'].to_numpy()\n",
    "x2 = df['tension_icmi'].to_numpy()\n",
    "\n",
    "cd, power = get_cohens_d_and_power(x1, x2, p_value=0.001)\n",
    "print(f\"cohens d: {cd}, power: {power}\")"
   ]
  },
  {
   "cell_type": "code",
   "execution_count": 37,
   "metadata": {},
   "outputs": [
    {
     "name": "stdout",
     "output_type": "stream",
     "text": [
      "cohens d: 1.4226151968443868, power: 1.0\n"
     ]
    }
   ],
   "source": [
    "x1 = df['tension_gt'].to_numpy()\n",
    "x2 = df['tension_low'].to_numpy()\n",
    "\n",
    "cd, power = get_cohens_d_and_power(x1, x2, p_value=0.001)\n",
    "print(f\"cohens d: {cd}, power: {power}\")"
   ]
  },
  {
   "cell_type": "code",
   "execution_count": 38,
   "metadata": {},
   "outputs": [
    {
     "name": "stdout",
     "output_type": "stream",
     "text": [
      "cohens d: 0.9930444332653807, power: 1.0\n"
     ]
    }
   ],
   "source": [
    "x1 = df['tension_gt'].to_numpy()\n",
    "x2 = df['tension_mid'].to_numpy()\n",
    "\n",
    "cd, power = get_cohens_d_and_power(x1, x2, p_value=0.001)\n",
    "print(f\"cohens d: {cd}, power: {power}\")"
   ]
  },
  {
   "cell_type": "code",
   "execution_count": 39,
   "metadata": {},
   "outputs": [
    {
     "name": "stdout",
     "output_type": "stream",
     "text": [
      "cohens d: 0.06314907665863054, power: 0.08467908156032534\n"
     ]
    }
   ],
   "source": [
    "x1 = df['tension_gt'].to_numpy()\n",
    "x2 = df['tension_high'].to_numpy()\n",
    "\n",
    "cd, power = get_cohens_d_and_power(x1, x2, p_value=0.05)\n",
    "print(f\"cohens d: {cd}, power: {power}\")"
   ]
  },
  {
   "cell_type": "code",
   "execution_count": 40,
   "metadata": {},
   "outputs": [
    {
     "name": "stdout",
     "output_type": "stream",
     "text": [
      "cohens d: 0.7844859651320053, power: 0.9999595127159631\n"
     ]
    }
   ],
   "source": [
    "x1 = df['tension_icmi'].to_numpy()\n",
    "x2 = df['tension_low'].to_numpy()\n",
    "\n",
    "cd, power = get_cohens_d_and_power(x1, x2, p_value=0.005)\n",
    "print(f\"cohens d: {cd}, power: {power}\")"
   ]
  },
  {
   "cell_type": "code",
   "execution_count": 42,
   "metadata": {},
   "outputs": [
    {
     "name": "stdout",
     "output_type": "stream",
     "text": [
      "cohens d: 0.3483310718521585, power: 0.8524357371183391\n"
     ]
    }
   ],
   "source": [
    "x1 = df['tension_icmi'].to_numpy()\n",
    "x2 = df['tension_mid'].to_numpy()\n",
    "\n",
    "cd, power = get_cohens_d_and_power(x1, x2, p_value=0.05)\n",
    "print(f\"cohens d: {cd}, power: {power}\")"
   ]
  },
  {
   "cell_type": "code",
   "execution_count": 44,
   "metadata": {},
   "outputs": [
    {
     "name": "stdout",
     "output_type": "stream",
     "text": [
      "cohens d: 0.7151152323701205, power: 0.9977866765434302\n"
     ]
    }
   ],
   "source": [
    "x1 = df['tension_icmi'].to_numpy()\n",
    "x2 = df['tension_high'].to_numpy()\n",
    "\n",
    "cd, power = get_cohens_d_and_power(x1, x2, p_value=0.001)\n",
    "print(f\"cohens d: {cd}, power: {power}\")"
   ]
  },
  {
   "cell_type": "code",
   "execution_count": 45,
   "metadata": {},
   "outputs": [
    {
     "name": "stdout",
     "output_type": "stream",
     "text": [
      "cohens d: 1.468071873106172, power: 1.0\n"
     ]
    }
   ],
   "source": [
    "x1 = df['tension_low'].to_numpy()\n",
    "x2 = df['tension_high'].to_numpy()\n",
    "\n",
    "cd, power = get_cohens_d_and_power(x1, x2, p_value=0.001)\n",
    "print(f\"cohens d: {cd}, power: {power}\")"
   ]
  },
  {
   "cell_type": "code",
   "execution_count": 46,
   "metadata": {},
   "outputs": [
    {
     "name": "stdout",
     "output_type": "stream",
     "text": [
      "cohens d: 1.0439563844133697, power: 1.0\n"
     ]
    }
   ],
   "source": [
    "x1 = df['tension_mid'].to_numpy()\n",
    "x2 = df['tension_high'].to_numpy()\n",
    "\n",
    "cd, power = get_cohens_d_and_power(x1, x2, p_value=0.001)\n",
    "print(f\"cohens d: {cd}, power: {power}\")"
   ]
  },
  {
   "cell_type": "code",
   "execution_count": 49,
   "metadata": {},
   "outputs": [
    {
     "name": "stdout",
     "output_type": "stream",
     "text": [
      "cohens d: 0.4296306755319274, power: 0.8130131248229583\n"
     ]
    }
   ],
   "source": [
    "x1 = df['tension_low'].to_numpy()\n",
    "x2 = df['tension_mid'].to_numpy()\n",
    "\n",
    "cd, power = get_cohens_d_and_power(x1, x2, p_value=0.005)\n",
    "print(f\"cohens d: {cd}, power: {power}\")"
   ]
  },
  {
   "cell_type": "code",
   "execution_count": 50,
   "metadata": {},
   "outputs": [
    {
     "name": "stdout",
     "output_type": "stream",
     "text": [
      "cohens d: 0.02973847008392642, power: 0.057583185726245205\n"
     ]
    }
   ],
   "source": [
    "x1 = df['tension_gt_commu'].to_numpy()\n",
    "x2 = df['tension_icmi_commu'].to_numpy()\n",
    "\n",
    "cd, power = get_cohens_d_and_power(x1, x2, p_value=0.05)\n",
    "print(f\"cohens d: {cd}, power: {power}\")"
   ]
  },
  {
   "cell_type": "code",
   "execution_count": 52,
   "metadata": {},
   "outputs": [
    {
     "name": "stdout",
     "output_type": "stream",
     "text": [
      "cohens d: 0.9020232380810369, power: 1.0\n"
     ]
    }
   ],
   "source": [
    "x1 = df['tension_gt_commu'].to_numpy()\n",
    "x2 = df['tension_low_commu'].to_numpy()\n",
    "\n",
    "cd, power = get_cohens_d_and_power(x1, x2, p_value=0.001)\n",
    "print(f\"cohens d: {cd}, power: {power}\")"
   ]
  },
  {
   "cell_type": "code",
   "execution_count": 53,
   "metadata": {},
   "outputs": [
    {
     "name": "stdout",
     "output_type": "stream",
     "text": [
      "cohens d: 0.2000664393417379, power: 0.05779225446927654\n"
     ]
    }
   ],
   "source": [
    "x1 = df['tension_gt_commu'].to_numpy()\n",
    "x2 = df['tension_mid_commu'].to_numpy()\n",
    "\n",
    "cd, power = get_cohens_d_and_power(x1, x2, p_value=0.001)\n",
    "print(f\"cohens d: {cd}, power: {power}\")"
   ]
  },
  {
   "cell_type": "code",
   "execution_count": 54,
   "metadata": {},
   "outputs": [
    {
     "name": "stdout",
     "output_type": "stream",
     "text": [
      "cohens d: 0.23768714785392683, power: 0.10551513927848602\n"
     ]
    }
   ],
   "source": [
    "x1 = df['tension_gt_commu'].to_numpy()\n",
    "x2 = df['tension_high_commu'].to_numpy()\n",
    "\n",
    "cd, power = get_cohens_d_and_power(x1, x2, p_value=0.001)\n",
    "print(f\"cohens d: {cd}, power: {power}\")"
   ]
  },
  {
   "cell_type": "code",
   "execution_count": 55,
   "metadata": {},
   "outputs": [
    {
     "name": "stdout",
     "output_type": "stream",
     "text": [
      "cohens d: 0.841969832158647, power: 0.9999582741336253\n"
     ]
    }
   ],
   "source": [
    "x1 = df['tension_icmi_commu'].to_numpy()\n",
    "x2 = df['tension_low_commu'].to_numpy()\n",
    "\n",
    "cd, power = get_cohens_d_and_power(x1, x2, p_value=0.001)\n",
    "print(f\"cohens d: {cd}, power: {power}\")"
   ]
  },
  {
   "cell_type": "code",
   "execution_count": 56,
   "metadata": {},
   "outputs": [
    {
     "name": "stdout",
     "output_type": "stream",
     "text": [
      "cohens d: 0.22226933133924207, power: 0.08332540965420007\n"
     ]
    }
   ],
   "source": [
    "x1 = df['tension_icmi_commu'].to_numpy()\n",
    "x2 = df['tension_mid_commu'].to_numpy()\n",
    "\n",
    "cd, power = get_cohens_d_and_power(x1, x2, p_value=0.001)\n",
    "print(f\"cohens d: {cd}, power: {power}\")"
   ]
  },
  {
   "cell_type": "code",
   "execution_count": 57,
   "metadata": {},
   "outputs": [
    {
     "name": "stdout",
     "output_type": "stream",
     "text": [
      "cohens d: 0.2578870667539868, power: 0.14065259846937345\n"
     ]
    }
   ],
   "source": [
    "x1 = df['tension_icmi_commu'].to_numpy()\n",
    "x2 = df['tension_high_commu'].to_numpy()\n",
    "\n",
    "cd, power = get_cohens_d_and_power(x1, x2, p_value=0.001)\n",
    "print(f\"cohens d: {cd}, power: {power}\")"
   ]
  },
  {
   "cell_type": "code",
   "execution_count": 58,
   "metadata": {},
   "outputs": [
    {
     "name": "stdout",
     "output_type": "stream",
     "text": [
      "cohens d: 1.0970425546360008, power: 1.0\n"
     ]
    }
   ],
   "source": [
    "x1 = df['tension_low_commu'].to_numpy()\n",
    "x2 = df['tension_high_commu'].to_numpy()\n",
    "\n",
    "cd, power = get_cohens_d_and_power(x1, x2, p_value=0.001)\n",
    "print(f\"cohens d: {cd}, power: {power}\")"
   ]
  },
  {
   "cell_type": "code",
   "execution_count": 59,
   "metadata": {},
   "outputs": [
    {
     "name": "stdout",
     "output_type": "stream",
     "text": [
      "cohens d: 1.1014148873600538, power: 1.0\n"
     ]
    }
   ],
   "source": [
    "x1 = df['tension_low_commu'].to_numpy()\n",
    "x2 = df['tension_mid_commu'].to_numpy()\n",
    "\n",
    "cd, power = get_cohens_d_and_power(x1, x2, p_value=0.001)\n",
    "print(f\"cohens d: {cd}, power: {power}\")"
   ]
  },
  {
   "cell_type": "code",
   "execution_count": 60,
   "metadata": {},
   "outputs": [
    {
     "name": "stdout",
     "output_type": "stream",
     "text": [
      "cohens d: 0.04801277309669189, power: 0.002104702116903294\n"
     ]
    }
   ],
   "source": [
    "x1 = df['tension_high_commu'].to_numpy()\n",
    "x2 = df['tension_mid_commu'].to_numpy()\n",
    "\n",
    "cd, power = get_cohens_d_and_power(x1, x2, p_value=0.001)\n",
    "print(f\"cohens d: {cd}, power: {power}\")"
   ]
  },
  {
   "cell_type": "code",
   "execution_count": 62,
   "metadata": {},
   "outputs": [
    {
     "name": "stdout",
     "output_type": "stream",
     "text": [
      "cohens d: 1.5305313037773551, power: 1.0\n"
     ]
    }
   ],
   "source": [
    "x1 = df['personality_audio'].to_numpy()\n",
    "x2 = df['personality_low_mute'].to_numpy()\n",
    "\n",
    "cd, power = get_cohens_d_and_power(x1, x2, p_value=0.001)\n",
    "print(f\"cohens d: {cd}, power: {power}\")"
   ]
  },
  {
   "cell_type": "code",
   "execution_count": 63,
   "metadata": {},
   "outputs": [
    {
     "name": "stdout",
     "output_type": "stream",
     "text": [
      "cohens d: 1.0137562416960062, power: 1.0\n"
     ]
    }
   ],
   "source": [
    "x1 = df['personality_audio'].to_numpy()\n",
    "x2 = df['personality_high_mute'].to_numpy()\n",
    "\n",
    "cd, power = get_cohens_d_and_power(x1, x2, p_value=0.001)\n",
    "print(f\"cohens d: {cd}, power: {power}\")"
   ]
  },
  {
   "cell_type": "code",
   "execution_count": 65,
   "metadata": {},
   "outputs": [
    {
     "name": "stdout",
     "output_type": "stream",
     "text": [
      "cohens d: 0.5284152022862972, power: 0.8932592559810127\n"
     ]
    }
   ],
   "source": [
    "x1 = df['personality_audio'].to_numpy()\n",
    "x2 = df['personality_high'].to_numpy()\n",
    "\n",
    "cd, power = get_cohens_d_and_power(x1, x2, p_value=0.001)\n",
    "print(f\"cohens d: {cd}, power: {power}\")"
   ]
  },
  {
   "cell_type": "code",
   "execution_count": 66,
   "metadata": {},
   "outputs": [
    {
     "name": "stdout",
     "output_type": "stream",
     "text": [
      "cohens d: 0.32728066849084403, power: 0.8065429602890237\n"
     ]
    }
   ],
   "source": [
    "x1 = df['personality_audio'].to_numpy()\n",
    "x2 = df['personality_mid_mute'].to_numpy()\n",
    "\n",
    "cd, power = get_cohens_d_and_power(x1, x2, p_value=0.05)\n",
    "print(f\"cohens d: {cd}, power: {power}\")"
   ]
  },
  {
   "cell_type": "code",
   "execution_count": 67,
   "metadata": {},
   "outputs": [
    {
     "name": "stdout",
     "output_type": "stream",
     "text": [
      "cohens d: 0.3626135073940282, power: 0.8790449065830546\n"
     ]
    }
   ],
   "source": [
    "x1 = df['personality_audio'].to_numpy()\n",
    "x2 = df['personality_mid'].to_numpy()\n",
    "\n",
    "cd, power = get_cohens_d_and_power(x1, x2, p_value=0.05)\n",
    "print(f\"cohens d: {cd}, power: {power}\")"
   ]
  },
  {
   "cell_type": "code",
   "execution_count": 68,
   "metadata": {},
   "outputs": [
    {
     "name": "stdout",
     "output_type": "stream",
     "text": [
      "cohens d: 0.028087893084344305, power: 0.05676154986199731\n"
     ]
    }
   ],
   "source": [
    "x1 = df['personality_mid_mute'].to_numpy()\n",
    "x2 = df['personality_mid'].to_numpy()\n",
    "\n",
    "cd, power = get_cohens_d_and_power(x1, x2, p_value=0.05)\n",
    "print(f\"cohens d: {cd}, power: {power}\")"
   ]
  },
  {
   "cell_type": "code",
   "execution_count": 69,
   "metadata": {},
   "outputs": [
    {
     "name": "stdout",
     "output_type": "stream",
     "text": [
      "cohens d: 0.600144155454613, power: 0.9685243322871302\n"
     ]
    }
   ],
   "source": [
    "x1 = df['personality_low_mute'].to_numpy()\n",
    "x2 = df['personality_low'].to_numpy()\n",
    "\n",
    "cd, power = get_cohens_d_and_power(x1, x2, p_value=0.001)\n",
    "print(f\"cohens d: {cd}, power: {power}\")"
   ]
  },
  {
   "cell_type": "code",
   "execution_count": 77,
   "metadata": {},
   "outputs": [
    {
     "name": "stdout",
     "output_type": "stream",
     "text": [
      "cohens d: 0.4508437738875387, power: 0.9043632101308697\n"
     ]
    }
   ],
   "source": [
    "x1 = df['tension_high'].to_numpy()\n",
    "x2 = df['tension_audio'].to_numpy()\n",
    "\n",
    "cd, power = get_cohens_d_and_power(x1, x2, p_value=0.01)\n",
    "print(f\"cohens d: {cd}, power: {power}\")"
   ]
  },
  {
   "cell_type": "code",
   "execution_count": 79,
   "metadata": {},
   "outputs": [
    {
     "name": "stdout",
     "output_type": "stream",
     "text": [
      "cohens d: 0.4113524070592021, power: 0.9441894001633995\n"
     ]
    }
   ],
   "source": [
    "x1 = df['tension_mid_mute'].to_numpy()\n",
    "x2 = df['tension_audio'].to_numpy()\n",
    "\n",
    "cd, power = get_cohens_d_and_power(x1, x2, p_value=0.05)\n",
    "print(f\"cohens d: {cd}, power: {power}\")"
   ]
  },
  {
   "cell_type": "code",
   "execution_count": 81,
   "metadata": {},
   "outputs": [
    {
     "name": "stdout",
     "output_type": "stream",
     "text": [
      "cohens d: 0.5898017622679705, power: 0.9938509363369327\n"
     ]
    }
   ],
   "source": [
    "x1 = df['tension_mid'].to_numpy()\n",
    "x2 = df['tension_audio'].to_numpy()\n",
    "\n",
    "cd, power = get_cohens_d_and_power(x1, x2, p_value=0.01)\n",
    "print(f\"cohens d: {cd}, power: {power}\")"
   ]
  },
  {
   "cell_type": "code",
   "execution_count": 82,
   "metadata": {},
   "outputs": [
    {
     "name": "stdout",
     "output_type": "stream",
     "text": [
      "cohens d: 0.15240258017870867, power: 0.10328815382346779\n"
     ]
    }
   ],
   "source": [
    "x1 = df['tension_mid'].to_numpy()\n",
    "x2 = df['tension_mid_mute'].to_numpy()\n",
    "\n",
    "cd, power = get_cohens_d_and_power(x1, x2, p_value=0.01)\n",
    "print(f\"cohens d: {cd}, power: {power}\")"
   ]
  },
  {
   "cell_type": "code",
   "execution_count": 83,
   "metadata": {},
   "outputs": [
    {
     "name": "stdout",
     "output_type": "stream",
     "text": [
      "cohens d: 0.24578544506697, power: 0.32308111244719834\n"
     ]
    }
   ],
   "source": [
    "x1 = df['tension_high'].to_numpy()\n",
    "x2 = df['tension_high_mute'].to_numpy()\n",
    "\n",
    "cd, power = get_cohens_d_and_power(x1, x2, p_value=0.01)\n",
    "print(f\"cohens d: {cd}, power: {power}\")"
   ]
  },
  {
   "cell_type": "code",
   "execution_count": null,
   "metadata": {},
   "outputs": [],
   "source": []
  }
 ],
 "metadata": {
  "interpreter": {
   "hash": "c5433c18cfe02dc1e59ee4a5c4c7b786fbbeff1af1182a459694f68144448fe2"
  },
  "kernelspec": {
   "display_name": "Python 3.8.12 ('env')",
   "language": "python",
   "name": "python3"
  },
  "language_info": {
   "codemirror_mode": {
    "name": "ipython",
    "version": 3
   },
   "file_extension": ".py",
   "mimetype": "text/x-python",
   "name": "python",
   "nbconvert_exporter": "python",
   "pygments_lexer": "ipython3",
   "version": "3.8.12"
  },
  "orig_nbformat": 4
 },
 "nbformat": 4,
 "nbformat_minor": 2
}
